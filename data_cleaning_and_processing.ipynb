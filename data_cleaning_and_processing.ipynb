{
 "cells": [
  {
   "cell_type": "code",
   "execution_count": 1,
   "metadata": {},
   "outputs": [],
   "source": [
    "import csv\n",
    "from bs4 import BeautifulSoup\n",
    "import urllib.request\n",
    "import requests\n",
    "import pandas as pd\n",
    "import numpy as np\n",
    "import re"
   ]
  },
  {
   "cell_type": "markdown",
   "metadata": {},
   "source": [
    "Reading the data from the CSV file"
   ]
  },
  {
   "cell_type": "code",
   "execution_count": 2,
   "metadata": {},
   "outputs": [
    {
     "data": {
      "text/html": [
       "<div>\n",
       "<style scoped>\n",
       "    .dataframe tbody tr th:only-of-type {\n",
       "        vertical-align: middle;\n",
       "    }\n",
       "\n",
       "    .dataframe tbody tr th {\n",
       "        vertical-align: top;\n",
       "    }\n",
       "\n",
       "    .dataframe thead th {\n",
       "        text-align: right;\n",
       "    }\n",
       "</style>\n",
       "<table border=\"1\" class=\"dataframe\">\n",
       "  <thead>\n",
       "    <tr style=\"text-align: right;\">\n",
       "      <th></th>\n",
       "      <th>url_no</th>\n",
       "      <th>url</th>\n",
       "    </tr>\n",
       "  </thead>\n",
       "  <tbody>\n",
       "    <tr>\n",
       "      <th>0</th>\n",
       "      <td>1</td>\n",
       "      <td>https://www.huffpost.com/entry/vladimir-putin-...</td>\n",
       "    </tr>\n",
       "    <tr>\n",
       "      <th>1</th>\n",
       "      <td>2</td>\n",
       "      <td>https://www.huffpost.com/entry/joe-biden-state...</td>\n",
       "    </tr>\n",
       "    <tr>\n",
       "      <th>2</th>\n",
       "      <td>3</td>\n",
       "      <td>https://www.huffpost.com/entry/state-of-the-un...</td>\n",
       "    </tr>\n",
       "    <tr>\n",
       "      <th>3</th>\n",
       "      <td>4</td>\n",
       "      <td>https://www.huffpost.com/entry/russia-shells-u...</td>\n",
       "    </tr>\n",
       "    <tr>\n",
       "      <th>4</th>\n",
       "      <td>5</td>\n",
       "      <td>https://www.huffpost.com/entry/ukraine-african...</td>\n",
       "    </tr>\n",
       "  </tbody>\n",
       "</table>\n",
       "</div>"
      ],
      "text/plain": [
       "   url_no                                                url\n",
       "0       1  https://www.huffpost.com/entry/vladimir-putin-...\n",
       "1       2  https://www.huffpost.com/entry/joe-biden-state...\n",
       "2       3  https://www.huffpost.com/entry/state-of-the-un...\n",
       "3       4  https://www.huffpost.com/entry/russia-shells-u...\n",
       "4       5  https://www.huffpost.com/entry/ukraine-african..."
      ]
     },
     "execution_count": 2,
     "metadata": {},
     "output_type": "execute_result"
    }
   ],
   "source": [
    "data = pd.read_csv('sample_input.csv')\n",
    "data.head(5)"
   ]
  },
  {
   "cell_type": "markdown",
   "metadata": {},
   "source": [
    "Appending the data of the CSV file to a list"
   ]
  },
  {
   "cell_type": "code",
   "execution_count": 3,
   "metadata": {},
   "outputs": [
    {
     "name": "stdout",
     "output_type": "stream",
     "text": [
      "['https://www.huffpost.com/entry/vladimir-putin-babyn-yar-ukraine_n_621e6b83e4b0783a8f075d6b', 'https://www.huffpost.com/entry/joe-biden-state-of-the-union-ukraine_n_621ecbd8e4b0250871a72d05', 'https://www.huffpost.com/entry/state-of-the-union-guests_n_621e7227e4b018aad3bf8f8e', 'https://www.huffpost.com/entry/russia-shells-ukraine-kharkiv_n_621c89b1e4b06e1cc591effb', 'https://www.huffpost.com/entry/ukraine-africans-racist-treatment-evacuation_n_621eb79fe4b0783a8f07ce22']\n"
     ]
    }
   ],
   "source": [
    "contents = []\n",
    "# with open('ggg.csv','r') as csvf: # Open file in read mode\n",
    "#     urls = csv.reader(csvf)\n",
    "for url in data['url']:\n",
    "    contents.append(url) # Add each url to list contents\n",
    "print(contents)"
   ]
  },
  {
   "cell_type": "markdown",
   "metadata": {},
   "source": [
    "Removing \"https://insights.blackcoffer.com/\" from the list of words to save the csv with the url\n",
    "and appendfing to df2"
   ]
  },
  {
   "cell_type": "code",
   "execution_count": 5,
   "metadata": {},
   "outputs": [
    {
     "name": "stdout",
     "output_type": "stream",
     "text": [
      "['vladimir-putin-babyn-yar-ukraine_n_621e6b83e4b0783a8f075d6b', 'joe-biden-state-of-the-union-ukraine_n_621ecbd8e4b0250871a72d05', 'state-of-the-union-guests_n_621e7227e4b018aad3bf8f8e', 'russia-shells-ukraine-kharkiv_n_621c89b1e4b06e1cc591effb', 'ukraine-africans-racist-treatment-evacuation_n_621eb79fe4b0783a8f07ce22']\n"
     ]
    }
   ],
   "source": [
    "df2 = []\n",
    "for i in range(0, len(data)):\n",
    "    z = re.sub('https://www.huffpost.com/entry/','',data['url'][i])# removes https://www.geeksforgeeks.org/\n",
    "    # o = re.sub('/','',z) # removes '/' if needed\n",
    "    df2.append(z)\n",
    "print(df2)"
   ]
  },
  {
   "cell_type": "code",
   "execution_count": 7,
   "metadata": {},
   "outputs": [
    {
     "name": "stdout",
     "output_type": "stream",
     "text": [
      "https://www.huffpost.com/entry/vladimir-putin-babyn-yar-ukraine_n_621e6b83e4b0783a8f075d6b\n",
      "https://www.huffpost.com/entry/joe-biden-state-of-the-union-ukraine_n_621ecbd8e4b0250871a72d05\n",
      "https://www.huffpost.com/entry/state-of-the-union-guests_n_621e7227e4b018aad3bf8f8e\n",
      "https://www.huffpost.com/entry/russia-shells-ukraine-kharkiv_n_621c89b1e4b06e1cc591effb\n",
      "https://www.huffpost.com/entry/ukraine-africans-racist-treatment-evacuation_n_621eb79fe4b0783a8f07ce22\n"
     ]
    }
   ],
   "source": [
    "###outputs data of individual websites in individual files\n",
    "\n",
    "headers = {\n",
    "    \"User-Agent\": \"Mozilla/5.0 (X11; Linux x86_64; rv:60.0) Gecko/20100101 Firefox/60.0\"}\n",
    "\n",
    "# Parse through each url in the list. i == url\n",
    "for j in df2:\n",
    "    j = j\n",
    "    url = 'https://www.huffpost.com/entry/' + j # Add https://www.huffpost.com/entry/ to df2 for using in request and beautifulsoup\n",
    "    print(url)\n",
    "\n",
    "    r = requests.get(url, headers=headers)\n",
    "    soup = BeautifulSoup(r.content, 'html.parser')\n",
    "    # print(soup)\n",
    "\n",
    "    fg = [vb.text for vb in soup.find_all('p')] ###can directly make a list of all the scraped data\n",
    "      \n",
    "    # output each file with the same name as the website\n",
    "    with open('data/{k}.csv'.format(k = j), 'a', newline='') as csv_file:\n",
    "        writer = csv.writer(csv_file)\n",
    "        writer.writerow(fg)"
   ]
  },
  {
   "cell_type": "code",
   "execution_count": null,
   "metadata": {},
   "outputs": [],
   "source": []
  }
 ],
 "metadata": {
  "interpreter": {
   "hash": "c39133041afda66dcdb0c3e3fba0e31e51485728b18bf05c9a23f2ff4b709c6d"
  },
  "kernelspec": {
   "display_name": "Python 3.9.7 ('base')",
   "language": "python",
   "name": "python3"
  },
  "language_info": {
   "codemirror_mode": {
    "name": "ipython",
    "version": 3
   },
   "file_extension": ".py",
   "mimetype": "text/x-python",
   "name": "python",
   "nbconvert_exporter": "python",
   "pygments_lexer": "ipython3",
   "version": "3.9.7"
  },
  "orig_nbformat": 4
 },
 "nbformat": 4,
 "nbformat_minor": 2
}
